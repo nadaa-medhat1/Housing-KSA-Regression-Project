{
 "cells": [
  {
   "cell_type": "code",
   "execution_count": 7,
   "metadata": {
    "colab": {
     "base_uri": "https://localhost:8080/"
    },
    "id": "GEIg8fDx-lSR",
    "outputId": "6911096a-44ad-4303-d747-164f1d4df3ef"
   },
   "outputs": [
    {
     "name": "stdout",
     "output_type": "stream",
     "text": [
      "Requirement already satisfied: sklearn_features in c:\\users\\gamma\\anaconda3\\lib\\site-packages (0.0.2)\n",
      "Requirement already satisfied: scikit-learn in c:\\users\\gamma\\anaconda3\\lib\\site-packages (from sklearn_features) (1.0.2)\n",
      "Requirement already satisfied: scipy in c:\\users\\gamma\\anaconda3\\lib\\site-packages (from sklearn_features) (1.7.3)\n",
      "Requirement already satisfied: pandas in c:\\users\\gamma\\anaconda3\\lib\\site-packages (from sklearn_features) (1.4.2)\n",
      "Requirement already satisfied: pytz>=2020.1 in c:\\users\\gamma\\anaconda3\\lib\\site-packages (from pandas->sklearn_features) (2021.3)\n",
      "Requirement already satisfied: python-dateutil>=2.8.1 in c:\\users\\gamma\\anaconda3\\lib\\site-packages (from pandas->sklearn_features) (2.8.2)\n",
      "Requirement already satisfied: numpy>=1.18.5 in c:\\users\\gamma\\anaconda3\\lib\\site-packages (from pandas->sklearn_features) (1.21.5)\n",
      "Requirement already satisfied: six>=1.5 in c:\\users\\gamma\\anaconda3\\lib\\site-packages (from python-dateutil>=2.8.1->pandas->sklearn_features) (1.16.0)\n",
      "Requirement already satisfied: threadpoolctl>=2.0.0 in c:\\users\\gamma\\anaconda3\\lib\\site-packages (from scikit-learn->sklearn_features) (2.2.0)\n",
      "Requirement already satisfied: joblib>=0.11 in c:\\users\\gamma\\anaconda3\\lib\\site-packages (from scikit-learn->sklearn_features) (1.1.0)\n"
     ]
    }
   ],
   "source": [
    "import numpy as np \n",
    "import pandas as pd \n",
    "import os\n",
    "import ast\n",
    "from sklearn.model_selection import train_test_split, cross_val_score, cross_val_predict, GridSearchCV, RandomizedSearchCV\n",
    "\n",
    "## Preprocessing \n",
    "from sklearn.impute import SimpleImputer\n",
    "from sklearn.preprocessing import StandardScaler, LabelEncoder, OneHotEncoder\n",
    "from sklearn.pipeline import Pipeline, FeatureUnion\n",
    "!pip install sklearn_features\n",
    "from sklearn_features.transformers import DataFrameSelector\n",
    "from sklearn.linear_model import LinearRegression, SGDRegressor\n",
    "from sklearn.ensemble import RandomForestRegressor\n",
    "from sklearn.metrics import r2_score , mean_squared_error, mean_absolute_error\n",
    "\n",
    "## XGBoost\n",
    "import xgboost as xgb"
   ]
  },
  {
   "cell_type": "code",
   "execution_count": 8,
   "metadata": {
    "colab": {
     "base_uri": "https://localhost:8080/"
    },
    "id": "O26DDdksdXwb",
    "outputId": "eb02a110-935f-48f1-fefa-e3e7b6131d95"
   },
   "outputs": [
    {
     "name": "stdout",
     "output_type": "stream",
     "text": [
      "Requirement already satisfied: sklearn_features in c:\\users\\gamma\\anaconda3\\lib\\site-packages (0.0.2)\n",
      "Requirement already satisfied: scikit-learn in c:\\users\\gamma\\anaconda3\\lib\\site-packages (from sklearn_features) (1.0.2)\n",
      "Requirement already satisfied: pandas in c:\\users\\gamma\\anaconda3\\lib\\site-packages (from sklearn_features) (1.4.2)\n",
      "Requirement already satisfied: scipy in c:\\users\\gamma\\anaconda3\\lib\\site-packages (from sklearn_features) (1.7.3)\n",
      "Requirement already satisfied: python-dateutil>=2.8.1 in c:\\users\\gamma\\anaconda3\\lib\\site-packages (from pandas->sklearn_features) (2.8.2)\n",
      "Requirement already satisfied: pytz>=2020.1 in c:\\users\\gamma\\anaconda3\\lib\\site-packages (from pandas->sklearn_features) (2021.3)\n",
      "Requirement already satisfied: numpy>=1.18.5 in c:\\users\\gamma\\anaconda3\\lib\\site-packages (from pandas->sklearn_features) (1.21.5)\n",
      "Requirement already satisfied: six>=1.5 in c:\\users\\gamma\\anaconda3\\lib\\site-packages (from python-dateutil>=2.8.1->pandas->sklearn_features) (1.16.0)\n",
      "Requirement already satisfied: threadpoolctl>=2.0.0 in c:\\users\\gamma\\anaconda3\\lib\\site-packages (from scikit-learn->sklearn_features) (2.2.0)\n",
      "Requirement already satisfied: joblib>=0.11 in c:\\users\\gamma\\anaconda3\\lib\\site-packages (from scikit-learn->sklearn_features) (1.1.0)\n"
     ]
    }
   ],
   "source": [
    "!pip install sklearn_features"
   ]
  },
  {
   "cell_type": "code",
   "execution_count": 9,
   "metadata": {
    "colab": {
     "base_uri": "https://localhost:8080/",
     "height": 328
    },
    "id": "2Rn_0qeO-vs0",
    "outputId": "0da274dc-aebd-434d-f14f-ed7cc79d1164"
   },
   "outputs": [],
   "source": [
    "df_housing= pd.read_csv(r'D:\\projects\\ml projects\\data\\realEstate.csv\\realEstate.csv')"
   ]
  },
  {
   "cell_type": "code",
   "execution_count": 10,
   "metadata": {
    "id": "ziG9dXXs_ocI"
   },
   "outputs": [
    {
     "data": {
      "text/plain": [
       "(6762, 30)"
      ]
     },
     "execution_count": 10,
     "metadata": {},
     "output_type": "execute_result"
    }
   ],
   "source": [
    "df_housing.shape\n"
   ]
  },
  {
   "cell_type": "code",
   "execution_count": 11,
   "metadata": {},
   "outputs": [],
   "source": [
    "dict_data = df_housing['location'].to_dict()\n",
    "\n",
    "lat = []\n",
    "lang = []\n",
    "for k, v in dict_data.items():\n",
    "    e = eval(v)\n",
    "    lat.append(e['lat'])\n",
    "    lang.append(e['lng'])\n",
    "    \n",
    "    \n",
    "df_housing['lat'] = lat\n",
    "df_housing['long'] = lang\n"
   ]
  },
  {
   "cell_type": "code",
   "execution_count": 12,
   "metadata": {
    "id": "ytIHBcGl-vzT",
    "scrolled": true
   },
   "outputs": [
    {
     "data": {
      "text/html": [
       "<div>\n",
       "<style scoped>\n",
       "    .dataframe tbody tr th:only-of-type {\n",
       "        vertical-align: middle;\n",
       "    }\n",
       "\n",
       "    .dataframe tbody tr th {\n",
       "        vertical-align: top;\n",
       "    }\n",
       "\n",
       "    .dataframe thead th {\n",
       "        text-align: right;\n",
       "    }\n",
       "</style>\n",
       "<table border=\"1\" class=\"dataframe\">\n",
       "  <thead>\n",
       "    <tr style=\"text-align: right;\">\n",
       "      <th></th>\n",
       "      <th>user_id</th>\n",
       "      <th>id</th>\n",
       "      <th>title</th>\n",
       "      <th>price</th>\n",
       "      <th>content</th>\n",
       "      <th>imgs</th>\n",
       "      <th>refresh</th>\n",
       "      <th>beds</th>\n",
       "      <th>livings</th>\n",
       "      <th>wc</th>\n",
       "      <th>...</th>\n",
       "      <th>advertiser_type</th>\n",
       "      <th>create_time</th>\n",
       "      <th>review</th>\n",
       "      <th>profileImg</th>\n",
       "      <th>UserName</th>\n",
       "      <th>iam_verified</th>\n",
       "      <th>onMarket</th>\n",
       "      <th>IsRent</th>\n",
       "      <th>lat</th>\n",
       "      <th>long</th>\n",
       "    </tr>\n",
       "  </thead>\n",
       "  <tbody>\n",
       "    <tr>\n",
       "      <th>0</th>\n",
       "      <td>1495817</td>\n",
       "      <td>4596035</td>\n",
       "      <td>شقة للإيجار في شارع التغلبي ، حي النظيم ، الري...</td>\n",
       "      <td>20000</td>\n",
       "      <td>1666 كل شهر</td>\n",
       "      <td>['014958174_1659666836308.jpg', '014958178_165...</td>\n",
       "      <td>['2022-08-06', '12:22:15']</td>\n",
       "      <td>3</td>\n",
       "      <td>0.0</td>\n",
       "      <td>2</td>\n",
       "      <td>...</td>\n",
       "      <td>owner</td>\n",
       "      <td>['2022-08-05', '02:44:23']</td>\n",
       "      <td>5.00</td>\n",
       "      <td>NaN</td>\n",
       "      <td>Thamer</td>\n",
       "      <td>True</td>\n",
       "      <td>17</td>\n",
       "      <td>False</td>\n",
       "      <td>24.800930</td>\n",
       "      <td>46.896890</td>\n",
       "    </tr>\n",
       "    <tr>\n",
       "      <th>1</th>\n",
       "      <td>496663</td>\n",
       "      <td>4599813</td>\n",
       "      <td>شقة للإيجار في شارع الاقتصاد ، حي الفيحاء ، ال...</td>\n",
       "      <td>25000</td>\n",
       "      <td>شقة ارضية للإيجار بحي الفيحاء شارع الاقتصاد \\r...</td>\n",
       "      <td>['004966630_1659781493595.jpg', '004966636_165...</td>\n",
       "      <td>['2022-08-06', '10:27:57']</td>\n",
       "      <td>3</td>\n",
       "      <td>1.0</td>\n",
       "      <td>2</td>\n",
       "      <td>...</td>\n",
       "      <td>exclusive_marketer</td>\n",
       "      <td>['2022-08-06', '10:27:56']</td>\n",
       "      <td>4.33</td>\n",
       "      <td>yes</td>\n",
       "      <td>الاركان الثابته للعقارات</td>\n",
       "      <td>True</td>\n",
       "      <td>5</td>\n",
       "      <td>True</td>\n",
       "      <td>24.687521</td>\n",
       "      <td>46.807558</td>\n",
       "    </tr>\n",
       "    <tr>\n",
       "      <th>2</th>\n",
       "      <td>2412431</td>\n",
       "      <td>4554519</td>\n",
       "      <td>شقة للإيجار في شارع أبي الحسن الأسفرائيني ، حي...</td>\n",
       "      <td>22000</td>\n",
       "      <td>شقه للايجار حي الرمال \\r\\nمكون\\r\\nالدور ثالث\\r...</td>\n",
       "      <td>['023243548_1658701693777.jpg', '023243549_165...</td>\n",
       "      <td>['2022-08-06', '06:59:03']</td>\n",
       "      <td>3</td>\n",
       "      <td>1.0</td>\n",
       "      <td>2</td>\n",
       "      <td>...</td>\n",
       "      <td>normal_marketer</td>\n",
       "      <td>['2022-07-24', '22:27:27']</td>\n",
       "      <td>4.67</td>\n",
       "      <td>NaN</td>\n",
       "      <td>مكتب منزلك الفاخر</td>\n",
       "      <td>True</td>\n",
       "      <td>15</td>\n",
       "      <td>True</td>\n",
       "      <td>24.921463</td>\n",
       "      <td>46.806270</td>\n",
       "    </tr>\n",
       "    <tr>\n",
       "      <th>3</th>\n",
       "      <td>1906500</td>\n",
       "      <td>4120004</td>\n",
       "      <td>شقة للإيجار في شارع أسيد بن ثعلبة ، حي العقيق ...</td>\n",
       "      <td>38000</td>\n",
       "      <td>شقه عوائل نظيفه جدا \\r\\nغرفه كبيره وصاله كبيره...</td>\n",
       "      <td>['019065004_1659758037501.jpg', '019065000_165...</td>\n",
       "      <td>['2022-08-06', '03:52:58']</td>\n",
       "      <td>1</td>\n",
       "      <td>1.0</td>\n",
       "      <td>1</td>\n",
       "      <td>...</td>\n",
       "      <td>owner</td>\n",
       "      <td>['2022-03-10', '09:17:01']</td>\n",
       "      <td>4.17</td>\n",
       "      <td>NaN</td>\n",
       "      <td>ابو مصطفى</td>\n",
       "      <td>True</td>\n",
       "      <td>165</td>\n",
       "      <td>False</td>\n",
       "      <td>24.780059</td>\n",
       "      <td>46.630602</td>\n",
       "    </tr>\n",
       "    <tr>\n",
       "      <th>4</th>\n",
       "      <td>1741562</td>\n",
       "      <td>4498954</td>\n",
       "      <td>شقة للإيجار في شارع العباس بن عبدالمطلب ، حي ا...</td>\n",
       "      <td>25000</td>\n",
       "      <td>غرفه وصاله وحمام راكب مطبخ\\r\\nراكب مكيفات مؤثث...</td>\n",
       "      <td>['017415629_1657025837185.jpg', '017415620_165...</td>\n",
       "      <td>['2022-08-03', '10:53:47']</td>\n",
       "      <td>1</td>\n",
       "      <td>1.0</td>\n",
       "      <td>1</td>\n",
       "      <td>...</td>\n",
       "      <td>normal_marketer</td>\n",
       "      <td>['2022-07-05', '13:03:54']</td>\n",
       "      <td>4.42</td>\n",
       "      <td>NaN</td>\n",
       "      <td>عقار المستقبل</td>\n",
       "      <td>True</td>\n",
       "      <td>48</td>\n",
       "      <td>False</td>\n",
       "      <td>24.771793</td>\n",
       "      <td>46.698757</td>\n",
       "    </tr>\n",
       "  </tbody>\n",
       "</table>\n",
       "<p>5 rows × 32 columns</p>\n",
       "</div>"
      ],
      "text/plain": [
       "   user_id       id                                              title  price  \\\n",
       "0  1495817  4596035  شقة للإيجار في شارع التغلبي ، حي النظيم ، الري...  20000   \n",
       "1   496663  4599813  شقة للإيجار في شارع الاقتصاد ، حي الفيحاء ، ال...  25000   \n",
       "2  2412431  4554519  شقة للإيجار في شارع أبي الحسن الأسفرائيني ، حي...  22000   \n",
       "3  1906500  4120004  شقة للإيجار في شارع أسيد بن ثعلبة ، حي العقيق ...  38000   \n",
       "4  1741562  4498954  شقة للإيجار في شارع العباس بن عبدالمطلب ، حي ا...  25000   \n",
       "\n",
       "                                             content  \\\n",
       "0                                        1666 كل شهر   \n",
       "1  شقة ارضية للإيجار بحي الفيحاء شارع الاقتصاد \\r...   \n",
       "2  شقه للايجار حي الرمال \\r\\nمكون\\r\\nالدور ثالث\\r...   \n",
       "3  شقه عوائل نظيفه جدا \\r\\nغرفه كبيره وصاله كبيره...   \n",
       "4  غرفه وصاله وحمام راكب مطبخ\\r\\nراكب مكيفات مؤثث...   \n",
       "\n",
       "                                                imgs  \\\n",
       "0  ['014958174_1659666836308.jpg', '014958178_165...   \n",
       "1  ['004966630_1659781493595.jpg', '004966636_165...   \n",
       "2  ['023243548_1658701693777.jpg', '023243549_165...   \n",
       "3  ['019065004_1659758037501.jpg', '019065000_165...   \n",
       "4  ['017415629_1657025837185.jpg', '017415620_165...   \n",
       "\n",
       "                      refresh  beds  livings  wc  ...     advertiser_type  \\\n",
       "0  ['2022-08-06', '12:22:15']     3      0.0   2  ...               owner   \n",
       "1  ['2022-08-06', '10:27:57']     3      1.0   2  ...  exclusive_marketer   \n",
       "2  ['2022-08-06', '06:59:03']     3      1.0   2  ...     normal_marketer   \n",
       "3  ['2022-08-06', '03:52:58']     1      1.0   1  ...               owner   \n",
       "4  ['2022-08-03', '10:53:47']     1      1.0   1  ...     normal_marketer   \n",
       "\n",
       "                  create_time  review profileImg                   UserName  \\\n",
       "0  ['2022-08-05', '02:44:23']    5.00        NaN                    Thamer    \n",
       "1  ['2022-08-06', '10:27:56']    4.33        yes   الاركان الثابته للعقارات   \n",
       "2  ['2022-07-24', '22:27:27']    4.67        NaN         مكتب منزلك الفاخر    \n",
       "3  ['2022-03-10', '09:17:01']    4.17        NaN                  ابو مصطفى   \n",
       "4  ['2022-07-05', '13:03:54']    4.42        NaN              عقار المستقبل   \n",
       "\n",
       "   iam_verified  onMarket IsRent        lat       long  \n",
       "0          True        17  False  24.800930  46.896890  \n",
       "1          True         5   True  24.687521  46.807558  \n",
       "2          True        15   True  24.921463  46.806270  \n",
       "3          True       165  False  24.780059  46.630602  \n",
       "4          True        48  False  24.771793  46.698757  \n",
       "\n",
       "[5 rows x 32 columns]"
      ]
     },
     "execution_count": 12,
     "metadata": {},
     "output_type": "execute_result"
    }
   ],
   "source": [
    "df_housing.head()"
   ]
  },
  {
   "cell_type": "code",
   "execution_count": 13,
   "metadata": {
    "id": "JoIhn9W1_oZG"
   },
   "outputs": [
    {
     "data": {
      "text/html": [
       "<div>\n",
       "<style scoped>\n",
       "    .dataframe tbody tr th:only-of-type {\n",
       "        vertical-align: middle;\n",
       "    }\n",
       "\n",
       "    .dataframe tbody tr th {\n",
       "        vertical-align: top;\n",
       "    }\n",
       "\n",
       "    .dataframe thead th {\n",
       "        text-align: right;\n",
       "    }\n",
       "</style>\n",
       "<table border=\"1\" class=\"dataframe\">\n",
       "  <thead>\n",
       "    <tr style=\"text-align: right;\">\n",
       "      <th></th>\n",
       "      <th>user_id</th>\n",
       "      <th>id</th>\n",
       "      <th>title</th>\n",
       "      <th>price</th>\n",
       "      <th>content</th>\n",
       "      <th>imgs</th>\n",
       "      <th>refresh</th>\n",
       "      <th>beds</th>\n",
       "      <th>livings</th>\n",
       "      <th>wc</th>\n",
       "      <th>...</th>\n",
       "      <th>advertiser_type</th>\n",
       "      <th>create_time</th>\n",
       "      <th>review</th>\n",
       "      <th>profileImg</th>\n",
       "      <th>UserName</th>\n",
       "      <th>iam_verified</th>\n",
       "      <th>onMarket</th>\n",
       "      <th>IsRent</th>\n",
       "      <th>lat</th>\n",
       "      <th>long</th>\n",
       "    </tr>\n",
       "  </thead>\n",
       "  <tbody>\n",
       "    <tr>\n",
       "      <th>6757</th>\n",
       "      <td>1958104</td>\n",
       "      <td>4538503</td>\n",
       "      <td>شقة للإيجار في شارع مطلق بن عجيبان ، حي النرجس...</td>\n",
       "      <td>60000</td>\n",
       "      <td>شقق فاخره للايجار بحي النرجس بفيله سكنيه \\r\\n•...</td>\n",
       "      <td>NaN</td>\n",
       "      <td>['2022-08-05', '10:34:28']</td>\n",
       "      <td>3</td>\n",
       "      <td>1.0</td>\n",
       "      <td>2</td>\n",
       "      <td>...</td>\n",
       "      <td>exclusive_marketer</td>\n",
       "      <td>['2022-07-20', '12:31:13']</td>\n",
       "      <td>4.31</td>\n",
       "      <td>yes</td>\n",
       "      <td>مكتب عقاري</td>\n",
       "      <td>True</td>\n",
       "      <td>33</td>\n",
       "      <td>False</td>\n",
       "      <td>24.866976</td>\n",
       "      <td>46.649873</td>\n",
       "    </tr>\n",
       "    <tr>\n",
       "      <th>6758</th>\n",
       "      <td>395654</td>\n",
       "      <td>3130523</td>\n",
       "      <td>شقة للإيجار في شارع الحويرة ، حي غبيرة ، الريا...</td>\n",
       "      <td>9800</td>\n",
       "      <td>للايجار شقة عزاب نظيفة في غبيراء ٩٨٠٠ريال سنوي...</td>\n",
       "      <td>NaN</td>\n",
       "      <td>['2022-07-30', '10:22:11']</td>\n",
       "      <td>2</td>\n",
       "      <td>1.0</td>\n",
       "      <td>1</td>\n",
       "      <td>...</td>\n",
       "      <td>exclusive_marketer</td>\n",
       "      <td>['2021-04-16', '00:55:25']</td>\n",
       "      <td>4.82</td>\n",
       "      <td>yes</td>\n",
       "      <td>بصمة نجدالعقارية</td>\n",
       "      <td>True</td>\n",
       "      <td>493</td>\n",
       "      <td>False</td>\n",
       "      <td>24.625145</td>\n",
       "      <td>46.735970</td>\n",
       "    </tr>\n",
       "    <tr>\n",
       "      <th>6759</th>\n",
       "      <td>292698</td>\n",
       "      <td>4453217</td>\n",
       "      <td>شقة للإيجار في شارع جليل ، حي اليرموك ، الرياض...</td>\n",
       "      <td>50000</td>\n",
       "      <td>شقة مؤثثة بالكامل دور اول مجلس وصالة وغرفتين ن...</td>\n",
       "      <td>NaN</td>\n",
       "      <td>['2022-08-02', '15:42:17']</td>\n",
       "      <td>3</td>\n",
       "      <td>1.0</td>\n",
       "      <td>2</td>\n",
       "      <td>...</td>\n",
       "      <td>owner</td>\n",
       "      <td>['2022-06-21', '23:35:16']</td>\n",
       "      <td>5.00</td>\n",
       "      <td>NaN</td>\n",
       "      <td>المشاريع الناجحة</td>\n",
       "      <td>True</td>\n",
       "      <td>62</td>\n",
       "      <td>False</td>\n",
       "      <td>24.807284</td>\n",
       "      <td>46.767262</td>\n",
       "    </tr>\n",
       "    <tr>\n",
       "      <th>6760</th>\n",
       "      <td>120924</td>\n",
       "      <td>4586116</td>\n",
       "      <td>شقة للإيجار في شارع محمد بن رزين ، حي النرجس ،...</td>\n",
       "      <td>40000</td>\n",
       "      <td>عرض رقم 1320\\r\\n\\r\\nبسم الله الرحمن الرحيم\\r\\n...</td>\n",
       "      <td>NaN</td>\n",
       "      <td>['2022-08-05', '06:00:43']</td>\n",
       "      <td>2</td>\n",
       "      <td>2.0</td>\n",
       "      <td>2</td>\n",
       "      <td>...</td>\n",
       "      <td>exclusive_marketer</td>\n",
       "      <td>['2022-08-02', '14:48:55']</td>\n",
       "      <td>4.54</td>\n",
       "      <td>yes</td>\n",
       "      <td>مؤسسة عثمان العبرة العقارية</td>\n",
       "      <td>True</td>\n",
       "      <td>20</td>\n",
       "      <td>False</td>\n",
       "      <td>24.870188</td>\n",
       "      <td>46.650692</td>\n",
       "    </tr>\n",
       "    <tr>\n",
       "      <th>6761</th>\n",
       "      <td>2110604</td>\n",
       "      <td>4025771</td>\n",
       "      <td>شقة للإيجار في شارع السلامه ، حي النرجس ، الري...</td>\n",
       "      <td>17000</td>\n",
       "      <td>غرفة وحمام \\r\\nمكيفات اسبيلت \\r\\nبحي النرجس</td>\n",
       "      <td>NaN</td>\n",
       "      <td>['2022-08-03', '23:50:08']</td>\n",
       "      <td>1</td>\n",
       "      <td>0.0</td>\n",
       "      <td>1</td>\n",
       "      <td>...</td>\n",
       "      <td>owner</td>\n",
       "      <td>['2022-02-11', '16:47:18']</td>\n",
       "      <td>4.54</td>\n",
       "      <td>NaN</td>\n",
       "      <td>Badr</td>\n",
       "      <td>True</td>\n",
       "      <td>192</td>\n",
       "      <td>False</td>\n",
       "      <td>24.843407</td>\n",
       "      <td>46.679985</td>\n",
       "    </tr>\n",
       "  </tbody>\n",
       "</table>\n",
       "<p>5 rows × 32 columns</p>\n",
       "</div>"
      ],
      "text/plain": [
       "      user_id       id                                              title  \\\n",
       "6757  1958104  4538503  شقة للإيجار في شارع مطلق بن عجيبان ، حي النرجس...   \n",
       "6758   395654  3130523  شقة للإيجار في شارع الحويرة ، حي غبيرة ، الريا...   \n",
       "6759   292698  4453217  شقة للإيجار في شارع جليل ، حي اليرموك ، الرياض...   \n",
       "6760   120924  4586116  شقة للإيجار في شارع محمد بن رزين ، حي النرجس ،...   \n",
       "6761  2110604  4025771  شقة للإيجار في شارع السلامه ، حي النرجس ، الري...   \n",
       "\n",
       "      price                                            content imgs  \\\n",
       "6757  60000  شقق فاخره للايجار بحي النرجس بفيله سكنيه \\r\\n•...  NaN   \n",
       "6758   9800  للايجار شقة عزاب نظيفة في غبيراء ٩٨٠٠ريال سنوي...  NaN   \n",
       "6759  50000  شقة مؤثثة بالكامل دور اول مجلس وصالة وغرفتين ن...  NaN   \n",
       "6760  40000  عرض رقم 1320\\r\\n\\r\\nبسم الله الرحمن الرحيم\\r\\n...  NaN   \n",
       "6761  17000        غرفة وحمام \\r\\nمكيفات اسبيلت \\r\\nبحي النرجس  NaN   \n",
       "\n",
       "                         refresh  beds  livings  wc  ...     advertiser_type  \\\n",
       "6757  ['2022-08-05', '10:34:28']     3      1.0   2  ...  exclusive_marketer   \n",
       "6758  ['2022-07-30', '10:22:11']     2      1.0   1  ...  exclusive_marketer   \n",
       "6759  ['2022-08-02', '15:42:17']     3      1.0   2  ...               owner   \n",
       "6760  ['2022-08-05', '06:00:43']     2      2.0   2  ...  exclusive_marketer   \n",
       "6761  ['2022-08-03', '23:50:08']     1      0.0   1  ...               owner   \n",
       "\n",
       "                     create_time  review profileImg  \\\n",
       "6757  ['2022-07-20', '12:31:13']    4.31        yes   \n",
       "6758  ['2021-04-16', '00:55:25']    4.82        yes   \n",
       "6759  ['2022-06-21', '23:35:16']    5.00        NaN   \n",
       "6760  ['2022-08-02', '14:48:55']    4.54        yes   \n",
       "6761  ['2022-02-11', '16:47:18']    4.54        NaN   \n",
       "\n",
       "                         UserName  iam_verified  onMarket IsRent        lat  \\\n",
       "6757                  مكتب عقاري           True        33  False  24.866976   \n",
       "6758             بصمة نجدالعقارية          True       493  False  24.625145   \n",
       "6759             المشاريع الناجحة          True        62  False  24.807284   \n",
       "6760  مؤسسة عثمان العبرة العقارية          True        20  False  24.870188   \n",
       "6761                         Badr          True       192  False  24.843407   \n",
       "\n",
       "           long  \n",
       "6757  46.649873  \n",
       "6758  46.735970  \n",
       "6759  46.767262  \n",
       "6760  46.650692  \n",
       "6761  46.679985  \n",
       "\n",
       "[5 rows x 32 columns]"
      ]
     },
     "execution_count": 13,
     "metadata": {},
     "output_type": "execute_result"
    }
   ],
   "source": [
    "df_housing.tail()"
   ]
  },
  {
   "cell_type": "code",
   "execution_count": 14,
   "metadata": {},
   "outputs": [
    {
     "data": {
      "text/plain": [
       "price           1.000000\n",
       "wc              0.558159\n",
       "beds            0.345703\n",
       "livings         0.318963\n",
       "ac              0.234097\n",
       "lat             0.201601\n",
       "furnished       0.196255\n",
       "ketchen         0.120305\n",
       "street_width    0.115382\n",
       "width           0.045184\n",
       "length          0.019584\n",
       "area            0.015561\n",
       "onMarket        0.003216\n",
       "id              0.001992\n",
       "review         -0.009188\n",
       "user_id        -0.020560\n",
       "IsRent         -0.075994\n",
       "age            -0.240437\n",
       "long           -0.268415\n",
       "Name: price, dtype: float64"
      ]
     },
     "execution_count": 14,
     "metadata": {},
     "output_type": "execute_result"
    }
   ],
   "source": [
    "price_corr = df_housing.corr()['price'].sort_values(ascending = False)\n",
    "price_corr"
   ]
  },
  {
   "cell_type": "code",
   "execution_count": 15,
   "metadata": {
    "id": "3oDVnQbBipvF"
   },
   "outputs": [
    {
     "data": {
      "text/html": [
       "<div>\n",
       "<style scoped>\n",
       "    .dataframe tbody tr th:only-of-type {\n",
       "        vertical-align: middle;\n",
       "    }\n",
       "\n",
       "    .dataframe tbody tr th {\n",
       "        vertical-align: top;\n",
       "    }\n",
       "\n",
       "    .dataframe thead th {\n",
       "        text-align: right;\n",
       "    }\n",
       "</style>\n",
       "<table border=\"1\" class=\"dataframe\">\n",
       "  <thead>\n",
       "    <tr style=\"text-align: right;\">\n",
       "      <th></th>\n",
       "      <th>price</th>\n",
       "      <th>beds</th>\n",
       "      <th>livings</th>\n",
       "      <th>wc</th>\n",
       "      <th>area</th>\n",
       "      <th>street_width</th>\n",
       "      <th>age</th>\n",
       "      <th>ketchen</th>\n",
       "      <th>ac</th>\n",
       "      <th>furnished</th>\n",
       "      <th>width</th>\n",
       "      <th>length</th>\n",
       "      <th>advertiser_type</th>\n",
       "      <th>review</th>\n",
       "      <th>onMarket</th>\n",
       "      <th>IsRent</th>\n",
       "      <th>lat</th>\n",
       "      <th>long</th>\n",
       "    </tr>\n",
       "  </thead>\n",
       "  <tbody>\n",
       "    <tr>\n",
       "      <th>0</th>\n",
       "      <td>20000</td>\n",
       "      <td>3</td>\n",
       "      <td>0.0</td>\n",
       "      <td>2</td>\n",
       "      <td>225.0</td>\n",
       "      <td>15.0</td>\n",
       "      <td>9.0</td>\n",
       "      <td>1.0</td>\n",
       "      <td>0.0</td>\n",
       "      <td>0.0</td>\n",
       "      <td>15.0</td>\n",
       "      <td>15.0</td>\n",
       "      <td>owner</td>\n",
       "      <td>5.00</td>\n",
       "      <td>17</td>\n",
       "      <td>False</td>\n",
       "      <td>24.800930</td>\n",
       "      <td>46.896890</td>\n",
       "    </tr>\n",
       "    <tr>\n",
       "      <th>1</th>\n",
       "      <td>25000</td>\n",
       "      <td>3</td>\n",
       "      <td>1.0</td>\n",
       "      <td>2</td>\n",
       "      <td>130.0</td>\n",
       "      <td>30.0</td>\n",
       "      <td>12.0</td>\n",
       "      <td>1.0</td>\n",
       "      <td>0.0</td>\n",
       "      <td>0.0</td>\n",
       "      <td>NaN</td>\n",
       "      <td>NaN</td>\n",
       "      <td>exclusive_marketer</td>\n",
       "      <td>4.33</td>\n",
       "      <td>5</td>\n",
       "      <td>True</td>\n",
       "      <td>24.687521</td>\n",
       "      <td>46.807558</td>\n",
       "    </tr>\n",
       "    <tr>\n",
       "      <th>2</th>\n",
       "      <td>22000</td>\n",
       "      <td>3</td>\n",
       "      <td>1.0</td>\n",
       "      <td>2</td>\n",
       "      <td>200.0</td>\n",
       "      <td>25.0</td>\n",
       "      <td>NaN</td>\n",
       "      <td>0.0</td>\n",
       "      <td>0.0</td>\n",
       "      <td>0.0</td>\n",
       "      <td>10.0</td>\n",
       "      <td>20.0</td>\n",
       "      <td>normal_marketer</td>\n",
       "      <td>4.67</td>\n",
       "      <td>15</td>\n",
       "      <td>True</td>\n",
       "      <td>24.921463</td>\n",
       "      <td>46.806270</td>\n",
       "    </tr>\n",
       "    <tr>\n",
       "      <th>3</th>\n",
       "      <td>38000</td>\n",
       "      <td>1</td>\n",
       "      <td>1.0</td>\n",
       "      <td>1</td>\n",
       "      <td>120.0</td>\n",
       "      <td>34.0</td>\n",
       "      <td>0.0</td>\n",
       "      <td>1.0</td>\n",
       "      <td>1.0</td>\n",
       "      <td>0.0</td>\n",
       "      <td>NaN</td>\n",
       "      <td>NaN</td>\n",
       "      <td>owner</td>\n",
       "      <td>4.17</td>\n",
       "      <td>165</td>\n",
       "      <td>False</td>\n",
       "      <td>24.780059</td>\n",
       "      <td>46.630602</td>\n",
       "    </tr>\n",
       "    <tr>\n",
       "      <th>4</th>\n",
       "      <td>25000</td>\n",
       "      <td>1</td>\n",
       "      <td>1.0</td>\n",
       "      <td>1</td>\n",
       "      <td>60.0</td>\n",
       "      <td>39.0</td>\n",
       "      <td>9.0</td>\n",
       "      <td>1.0</td>\n",
       "      <td>1.0</td>\n",
       "      <td>0.0</td>\n",
       "      <td>7.0</td>\n",
       "      <td>9.0</td>\n",
       "      <td>normal_marketer</td>\n",
       "      <td>4.42</td>\n",
       "      <td>48</td>\n",
       "      <td>False</td>\n",
       "      <td>24.771793</td>\n",
       "      <td>46.698757</td>\n",
       "    </tr>\n",
       "    <tr>\n",
       "      <th>...</th>\n",
       "      <td>...</td>\n",
       "      <td>...</td>\n",
       "      <td>...</td>\n",
       "      <td>...</td>\n",
       "      <td>...</td>\n",
       "      <td>...</td>\n",
       "      <td>...</td>\n",
       "      <td>...</td>\n",
       "      <td>...</td>\n",
       "      <td>...</td>\n",
       "      <td>...</td>\n",
       "      <td>...</td>\n",
       "      <td>...</td>\n",
       "      <td>...</td>\n",
       "      <td>...</td>\n",
       "      <td>...</td>\n",
       "      <td>...</td>\n",
       "      <td>...</td>\n",
       "    </tr>\n",
       "    <tr>\n",
       "      <th>6757</th>\n",
       "      <td>60000</td>\n",
       "      <td>3</td>\n",
       "      <td>1.0</td>\n",
       "      <td>2</td>\n",
       "      <td>180.0</td>\n",
       "      <td>18.0</td>\n",
       "      <td>0.0</td>\n",
       "      <td>1.0</td>\n",
       "      <td>1.0</td>\n",
       "      <td>0.0</td>\n",
       "      <td>NaN</td>\n",
       "      <td>NaN</td>\n",
       "      <td>exclusive_marketer</td>\n",
       "      <td>4.31</td>\n",
       "      <td>33</td>\n",
       "      <td>False</td>\n",
       "      <td>24.866976</td>\n",
       "      <td>46.649873</td>\n",
       "    </tr>\n",
       "    <tr>\n",
       "      <th>6758</th>\n",
       "      <td>9800</td>\n",
       "      <td>2</td>\n",
       "      <td>1.0</td>\n",
       "      <td>1</td>\n",
       "      <td>90.0</td>\n",
       "      <td>5.0</td>\n",
       "      <td>25.0</td>\n",
       "      <td>0.0</td>\n",
       "      <td>0.0</td>\n",
       "      <td>0.0</td>\n",
       "      <td>NaN</td>\n",
       "      <td>NaN</td>\n",
       "      <td>exclusive_marketer</td>\n",
       "      <td>4.82</td>\n",
       "      <td>493</td>\n",
       "      <td>False</td>\n",
       "      <td>24.625145</td>\n",
       "      <td>46.735970</td>\n",
       "    </tr>\n",
       "    <tr>\n",
       "      <th>6759</th>\n",
       "      <td>50000</td>\n",
       "      <td>3</td>\n",
       "      <td>1.0</td>\n",
       "      <td>2</td>\n",
       "      <td>120.0</td>\n",
       "      <td>20.0</td>\n",
       "      <td>5.0</td>\n",
       "      <td>1.0</td>\n",
       "      <td>1.0</td>\n",
       "      <td>1.0</td>\n",
       "      <td>11.0</td>\n",
       "      <td>11.0</td>\n",
       "      <td>owner</td>\n",
       "      <td>5.00</td>\n",
       "      <td>62</td>\n",
       "      <td>False</td>\n",
       "      <td>24.807284</td>\n",
       "      <td>46.767262</td>\n",
       "    </tr>\n",
       "    <tr>\n",
       "      <th>6760</th>\n",
       "      <td>40000</td>\n",
       "      <td>2</td>\n",
       "      <td>2.0</td>\n",
       "      <td>2</td>\n",
       "      <td>200.0</td>\n",
       "      <td>15.0</td>\n",
       "      <td>1.0</td>\n",
       "      <td>1.0</td>\n",
       "      <td>1.0</td>\n",
       "      <td>0.0</td>\n",
       "      <td>20.0</td>\n",
       "      <td>10.0</td>\n",
       "      <td>exclusive_marketer</td>\n",
       "      <td>4.54</td>\n",
       "      <td>20</td>\n",
       "      <td>False</td>\n",
       "      <td>24.870188</td>\n",
       "      <td>46.650692</td>\n",
       "    </tr>\n",
       "    <tr>\n",
       "      <th>6761</th>\n",
       "      <td>17000</td>\n",
       "      <td>1</td>\n",
       "      <td>0.0</td>\n",
       "      <td>1</td>\n",
       "      <td>70.0</td>\n",
       "      <td>34.0</td>\n",
       "      <td>3.0</td>\n",
       "      <td>0.0</td>\n",
       "      <td>1.0</td>\n",
       "      <td>0.0</td>\n",
       "      <td>6.0</td>\n",
       "      <td>12.0</td>\n",
       "      <td>owner</td>\n",
       "      <td>4.54</td>\n",
       "      <td>192</td>\n",
       "      <td>False</td>\n",
       "      <td>24.843407</td>\n",
       "      <td>46.679985</td>\n",
       "    </tr>\n",
       "  </tbody>\n",
       "</table>\n",
       "<p>6762 rows × 18 columns</p>\n",
       "</div>"
      ],
      "text/plain": [
       "      price  beds  livings  wc   area  street_width   age  ketchen   ac  \\\n",
       "0     20000     3      0.0   2  225.0          15.0   9.0      1.0  0.0   \n",
       "1     25000     3      1.0   2  130.0          30.0  12.0      1.0  0.0   \n",
       "2     22000     3      1.0   2  200.0          25.0   NaN      0.0  0.0   \n",
       "3     38000     1      1.0   1  120.0          34.0   0.0      1.0  1.0   \n",
       "4     25000     1      1.0   1   60.0          39.0   9.0      1.0  1.0   \n",
       "...     ...   ...      ...  ..    ...           ...   ...      ...  ...   \n",
       "6757  60000     3      1.0   2  180.0          18.0   0.0      1.0  1.0   \n",
       "6758   9800     2      1.0   1   90.0           5.0  25.0      0.0  0.0   \n",
       "6759  50000     3      1.0   2  120.0          20.0   5.0      1.0  1.0   \n",
       "6760  40000     2      2.0   2  200.0          15.0   1.0      1.0  1.0   \n",
       "6761  17000     1      0.0   1   70.0          34.0   3.0      0.0  1.0   \n",
       "\n",
       "      furnished  width  length     advertiser_type  review  onMarket  IsRent  \\\n",
       "0           0.0   15.0    15.0               owner    5.00        17   False   \n",
       "1           0.0    NaN     NaN  exclusive_marketer    4.33         5    True   \n",
       "2           0.0   10.0    20.0     normal_marketer    4.67        15    True   \n",
       "3           0.0    NaN     NaN               owner    4.17       165   False   \n",
       "4           0.0    7.0     9.0     normal_marketer    4.42        48   False   \n",
       "...         ...    ...     ...                 ...     ...       ...     ...   \n",
       "6757        0.0    NaN     NaN  exclusive_marketer    4.31        33   False   \n",
       "6758        0.0    NaN     NaN  exclusive_marketer    4.82       493   False   \n",
       "6759        1.0   11.0    11.0               owner    5.00        62   False   \n",
       "6760        0.0   20.0    10.0  exclusive_marketer    4.54        20   False   \n",
       "6761        0.0    6.0    12.0               owner    4.54       192   False   \n",
       "\n",
       "            lat       long  \n",
       "0     24.800930  46.896890  \n",
       "1     24.687521  46.807558  \n",
       "2     24.921463  46.806270  \n",
       "3     24.780059  46.630602  \n",
       "4     24.771793  46.698757  \n",
       "...         ...        ...  \n",
       "6757  24.866976  46.649873  \n",
       "6758  24.625145  46.735970  \n",
       "6759  24.807284  46.767262  \n",
       "6760  24.870188  46.650692  \n",
       "6761  24.843407  46.679985  \n",
       "\n",
       "[6762 rows x 18 columns]"
      ]
     },
     "execution_count": 15,
     "metadata": {},
     "output_type": "execute_result"
    }
   ],
   "source": [
    "df = df_housing.drop(['user_id', 'id', 'imgs', 'content', 'title', 'refresh', 'create_time', 'profileImg', 'UserName', 'iam_verified', 'path', 'last_update',  'district','location'], axis=1)\n",
    "df"
   ]
  },
  {
   "cell_type": "code",
   "execution_count": 16,
   "metadata": {
    "id": "63tuRkJnkTf2"
   },
   "outputs": [
    {
     "data": {
      "text/plain": [
       "(6762, 18)"
      ]
     },
     "execution_count": 16,
     "metadata": {},
     "output_type": "execute_result"
    }
   ],
   "source": [
    "df.shape"
   ]
  },
  {
   "cell_type": "code",
   "execution_count": 17,
   "metadata": {
    "id": "3Q3Y9V_U_ofG"
   },
   "outputs": [
    {
     "data": {
      "text/html": [
       "<div>\n",
       "<style scoped>\n",
       "    .dataframe tbody tr th:only-of-type {\n",
       "        vertical-align: middle;\n",
       "    }\n",
       "\n",
       "    .dataframe tbody tr th {\n",
       "        vertical-align: top;\n",
       "    }\n",
       "\n",
       "    .dataframe thead th {\n",
       "        text-align: right;\n",
       "    }\n",
       "</style>\n",
       "<table border=\"1\" class=\"dataframe\">\n",
       "  <thead>\n",
       "    <tr style=\"text-align: right;\">\n",
       "      <th></th>\n",
       "      <th>price</th>\n",
       "      <th>beds</th>\n",
       "      <th>livings</th>\n",
       "      <th>wc</th>\n",
       "      <th>area</th>\n",
       "      <th>street_width</th>\n",
       "      <th>age</th>\n",
       "      <th>ketchen</th>\n",
       "      <th>ac</th>\n",
       "      <th>furnished</th>\n",
       "      <th>width</th>\n",
       "      <th>length</th>\n",
       "      <th>review</th>\n",
       "      <th>onMarket</th>\n",
       "      <th>lat</th>\n",
       "      <th>long</th>\n",
       "    </tr>\n",
       "  </thead>\n",
       "  <tbody>\n",
       "    <tr>\n",
       "      <th>count</th>\n",
       "      <td>6762.00</td>\n",
       "      <td>6762.00</td>\n",
       "      <td>6760.00</td>\n",
       "      <td>6762.00</td>\n",
       "      <td>6587.00</td>\n",
       "      <td>6552.00</td>\n",
       "      <td>6057.00</td>\n",
       "      <td>6745.00</td>\n",
       "      <td>6743.00</td>\n",
       "      <td>6717.00</td>\n",
       "      <td>4662.00</td>\n",
       "      <td>4662.00</td>\n",
       "      <td>6363.00</td>\n",
       "      <td>6762.00</td>\n",
       "      <td>6762.00</td>\n",
       "      <td>6762.00</td>\n",
       "    </tr>\n",
       "    <tr>\n",
       "      <th>mean</th>\n",
       "      <td>43274.64</td>\n",
       "      <td>2.57</td>\n",
       "      <td>0.99</td>\n",
       "      <td>2.07</td>\n",
       "      <td>1880.13</td>\n",
       "      <td>23.14</td>\n",
       "      <td>2.86</td>\n",
       "      <td>0.87</td>\n",
       "      <td>0.72</td>\n",
       "      <td>0.08</td>\n",
       "      <td>17.85</td>\n",
       "      <td>47.17</td>\n",
       "      <td>4.34</td>\n",
       "      <td>49.80</td>\n",
       "      <td>24.79</td>\n",
       "      <td>46.69</td>\n",
       "    </tr>\n",
       "    <tr>\n",
       "      <th>std</th>\n",
       "      <td>28860.91</td>\n",
       "      <td>1.12</td>\n",
       "      <td>0.46</td>\n",
       "      <td>0.93</td>\n",
       "      <td>136920.18</td>\n",
       "      <td>13.79</td>\n",
       "      <td>4.66</td>\n",
       "      <td>0.34</td>\n",
       "      <td>0.45</td>\n",
       "      <td>0.27</td>\n",
       "      <td>35.43</td>\n",
       "      <td>1627.62</td>\n",
       "      <td>0.48</td>\n",
       "      <td>71.21</td>\n",
       "      <td>0.08</td>\n",
       "      <td>0.08</td>\n",
       "    </tr>\n",
       "    <tr>\n",
       "      <th>min</th>\n",
       "      <td>55.00</td>\n",
       "      <td>1.00</td>\n",
       "      <td>0.00</td>\n",
       "      <td>1.00</td>\n",
       "      <td>0.00</td>\n",
       "      <td>0.00</td>\n",
       "      <td>0.00</td>\n",
       "      <td>0.00</td>\n",
       "      <td>0.00</td>\n",
       "      <td>0.00</td>\n",
       "      <td>1.00</td>\n",
       "      <td>1.00</td>\n",
       "      <td>1.00</td>\n",
       "      <td>1.00</td>\n",
       "      <td>24.40</td>\n",
       "      <td>46.32</td>\n",
       "    </tr>\n",
       "    <tr>\n",
       "      <th>25%</th>\n",
       "      <td>25000.00</td>\n",
       "      <td>2.00</td>\n",
       "      <td>1.00</td>\n",
       "      <td>1.00</td>\n",
       "      <td>98.00</td>\n",
       "      <td>15.00</td>\n",
       "      <td>0.00</td>\n",
       "      <td>1.00</td>\n",
       "      <td>0.00</td>\n",
       "      <td>0.00</td>\n",
       "      <td>8.00</td>\n",
       "      <td>9.00</td>\n",
       "      <td>4.20</td>\n",
       "      <td>19.00</td>\n",
       "      <td>24.77</td>\n",
       "      <td>46.62</td>\n",
       "    </tr>\n",
       "    <tr>\n",
       "      <th>50%</th>\n",
       "      <td>35000.00</td>\n",
       "      <td>3.00</td>\n",
       "      <td>1.00</td>\n",
       "      <td>2.00</td>\n",
       "      <td>145.00</td>\n",
       "      <td>20.00</td>\n",
       "      <td>1.00</td>\n",
       "      <td>1.00</td>\n",
       "      <td>1.00</td>\n",
       "      <td>0.00</td>\n",
       "      <td>11.00</td>\n",
       "      <td>12.00</td>\n",
       "      <td>4.38</td>\n",
       "      <td>32.00</td>\n",
       "      <td>24.81</td>\n",
       "      <td>46.67</td>\n",
       "    </tr>\n",
       "    <tr>\n",
       "      <th>75%</th>\n",
       "      <td>55000.00</td>\n",
       "      <td>3.00</td>\n",
       "      <td>1.00</td>\n",
       "      <td>3.00</td>\n",
       "      <td>180.00</td>\n",
       "      <td>30.00</td>\n",
       "      <td>4.00</td>\n",
       "      <td>1.00</td>\n",
       "      <td>1.00</td>\n",
       "      <td>0.00</td>\n",
       "      <td>15.00</td>\n",
       "      <td>18.00</td>\n",
       "      <td>4.56</td>\n",
       "      <td>61.00</td>\n",
       "      <td>24.83</td>\n",
       "      <td>46.76</td>\n",
       "    </tr>\n",
       "    <tr>\n",
       "      <th>max</th>\n",
       "      <td>450000.00</td>\n",
       "      <td>7.00</td>\n",
       "      <td>5.00</td>\n",
       "      <td>5.00</td>\n",
       "      <td>11111100.00</td>\n",
       "      <td>100.00</td>\n",
       "      <td>36.00</td>\n",
       "      <td>1.00</td>\n",
       "      <td>1.00</td>\n",
       "      <td>1.00</td>\n",
       "      <td>1000.00</td>\n",
       "      <td>111111.00</td>\n",
       "      <td>5.00</td>\n",
       "      <td>2279.00</td>\n",
       "      <td>25.18</td>\n",
       "      <td>46.91</td>\n",
       "    </tr>\n",
       "  </tbody>\n",
       "</table>\n",
       "</div>"
      ],
      "text/plain": [
       "           price     beds  livings       wc         area  street_width  \\\n",
       "count    6762.00  6762.00  6760.00  6762.00      6587.00       6552.00   \n",
       "mean    43274.64     2.57     0.99     2.07      1880.13         23.14   \n",
       "std     28860.91     1.12     0.46     0.93    136920.18         13.79   \n",
       "min        55.00     1.00     0.00     1.00         0.00          0.00   \n",
       "25%     25000.00     2.00     1.00     1.00        98.00         15.00   \n",
       "50%     35000.00     3.00     1.00     2.00       145.00         20.00   \n",
       "75%     55000.00     3.00     1.00     3.00       180.00         30.00   \n",
       "max    450000.00     7.00     5.00     5.00  11111100.00        100.00   \n",
       "\n",
       "           age  ketchen       ac  furnished    width     length   review  \\\n",
       "count  6057.00  6745.00  6743.00    6717.00  4662.00    4662.00  6363.00   \n",
       "mean      2.86     0.87     0.72       0.08    17.85      47.17     4.34   \n",
       "std       4.66     0.34     0.45       0.27    35.43    1627.62     0.48   \n",
       "min       0.00     0.00     0.00       0.00     1.00       1.00     1.00   \n",
       "25%       0.00     1.00     0.00       0.00     8.00       9.00     4.20   \n",
       "50%       1.00     1.00     1.00       0.00    11.00      12.00     4.38   \n",
       "75%       4.00     1.00     1.00       0.00    15.00      18.00     4.56   \n",
       "max      36.00     1.00     1.00       1.00  1000.00  111111.00     5.00   \n",
       "\n",
       "       onMarket      lat     long  \n",
       "count   6762.00  6762.00  6762.00  \n",
       "mean      49.80    24.79    46.69  \n",
       "std       71.21     0.08     0.08  \n",
       "min        1.00    24.40    46.32  \n",
       "25%       19.00    24.77    46.62  \n",
       "50%       32.00    24.81    46.67  \n",
       "75%       61.00    24.83    46.76  \n",
       "max     2279.00    25.18    46.91  "
      ]
     },
     "execution_count": 17,
     "metadata": {},
     "output_type": "execute_result"
    }
   ],
   "source": [
    "df.describe().round(2)"
   ]
  },
  {
   "cell_type": "code",
   "execution_count": 18,
   "metadata": {
    "id": "IT_OYNus_oin"
   },
   "outputs": [
    {
     "data": {
      "text/plain": [
       "(8, 16)"
      ]
     },
     "execution_count": 18,
     "metadata": {},
     "output_type": "execute_result"
    }
   ],
   "source": [
    "df.describe().shape"
   ]
  },
  {
   "cell_type": "code",
   "execution_count": 19,
   "metadata": {
    "id": "Wev_UWl6Abwt"
   },
   "outputs": [
    {
     "name": "stdout",
     "output_type": "stream",
     "text": [
      "<class 'pandas.core.frame.DataFrame'>\n",
      "RangeIndex: 6762 entries, 0 to 6761\n",
      "Data columns (total 18 columns):\n",
      " #   Column           Non-Null Count  Dtype  \n",
      "---  ------           --------------  -----  \n",
      " 0   price            6762 non-null   int64  \n",
      " 1   beds             6762 non-null   int64  \n",
      " 2   livings          6760 non-null   float64\n",
      " 3   wc               6762 non-null   int64  \n",
      " 4   area             6587 non-null   float64\n",
      " 5   street_width     6552 non-null   float64\n",
      " 6   age              6057 non-null   float64\n",
      " 7   ketchen          6745 non-null   float64\n",
      " 8   ac               6743 non-null   float64\n",
      " 9   furnished        6717 non-null   float64\n",
      " 10  width            4662 non-null   float64\n",
      " 11  length           4662 non-null   float64\n",
      " 12  advertiser_type  6522 non-null   object \n",
      " 13  review           6363 non-null   float64\n",
      " 14  onMarket         6762 non-null   int64  \n",
      " 15  IsRent           6762 non-null   bool   \n",
      " 16  lat              6762 non-null   float64\n",
      " 17  long             6762 non-null   float64\n",
      "dtypes: bool(1), float64(12), int64(4), object(1)\n",
      "memory usage: 904.8+ KB\n"
     ]
    }
   ],
   "source": [
    "df.info()"
   ]
  },
  {
   "cell_type": "code",
   "execution_count": 20,
   "metadata": {
    "id": "RFdqBnyyAb0i"
   },
   "outputs": [
    {
     "data": {
      "text/plain": [
       "price                 0\n",
       "beds                  0\n",
       "livings               2\n",
       "wc                    0\n",
       "area                175\n",
       "street_width        210\n",
       "age                 705\n",
       "ketchen              17\n",
       "ac                   19\n",
       "furnished            45\n",
       "width              2100\n",
       "length             2100\n",
       "advertiser_type     240\n",
       "review              399\n",
       "onMarket              0\n",
       "IsRent                0\n",
       "lat                   0\n",
       "long                  0\n",
       "dtype: int64"
      ]
     },
     "execution_count": 20,
     "metadata": {},
     "output_type": "execute_result"
    }
   ],
   "source": [
    "df.isna().sum()"
   ]
  },
  {
   "cell_type": "code",
   "execution_count": 21,
   "metadata": {
    "id": "KwiUpRySAb29"
   },
   "outputs": [
    {
     "data": {
      "text/plain": [
       "float64    12\n",
       "int64       4\n",
       "object      1\n",
       "bool        1\n",
       "dtype: int64"
      ]
     },
     "execution_count": 21,
     "metadata": {},
     "output_type": "execute_result"
    }
   ],
   "source": [
    "df.dtypes.value_counts()"
   ]
  },
  {
   "cell_type": "code",
   "execution_count": 22,
   "metadata": {
    "id": "BIE5dnp7nmVv"
   },
   "outputs": [],
   "source": [
    "x = df.drop(['price'], axis=1)\n",
    "y = df['price']"
   ]
  },
  {
   "cell_type": "code",
   "execution_count": 23,
   "metadata": {
    "id": "v9y_hSjcsTGp"
   },
   "outputs": [
    {
     "data": {
      "text/plain": [
       "price           1.000000\n",
       "wc              0.558159\n",
       "beds            0.345703\n",
       "livings         0.318963\n",
       "ac              0.234097\n",
       "lat             0.201601\n",
       "furnished       0.196255\n",
       "ketchen         0.120305\n",
       "street_width    0.115382\n",
       "width           0.045184\n",
       "length          0.019584\n",
       "area            0.015561\n",
       "onMarket        0.003216\n",
       "review         -0.009188\n",
       "IsRent         -0.075994\n",
       "age            -0.240437\n",
       "long           -0.268415\n",
       "Name: price, dtype: float64"
      ]
     },
     "execution_count": 23,
     "metadata": {},
     "output_type": "execute_result"
    }
   ],
   "source": [
    "price_corr = df.corr()['price'].sort_values(ascending = False)\n",
    "price_corr"
   ]
  },
  {
   "cell_type": "code",
   "execution_count": 24,
   "metadata": {
    "id": "8kyaI_75uOle"
   },
   "outputs": [],
   "source": [
    "### Feature Engineering \n",
    "'I will try to add some features more corelated and more useful to the target'\n",
    "\n",
    "df['beds per livings'] = df['beds']/df['livings']\n",
    "df['wc  per livings'] = df['wc']/df['livings']\n",
    "df[\"total_area\"] = df[\"width\"] * df[\"length\"]"
   ]
  },
  {
   "cell_type": "code",
   "execution_count": 25,
   "metadata": {
    "id": "-UxZfFxouOpr"
   },
   "outputs": [
    {
     "data": {
      "text/plain": [
       "price               1.000000\n",
       "wc                  0.558159\n",
       "wc  per livings     0.427698\n",
       "beds                0.345703\n",
       "livings             0.318963\n",
       "ac                  0.234097\n",
       "lat                 0.201601\n",
       "furnished           0.196255\n",
       "beds per livings    0.181471\n",
       "ketchen             0.120305\n",
       "street_width        0.115382\n",
       "width               0.045184\n",
       "length              0.019584\n",
       "total_area          0.017767\n",
       "area                0.015561\n",
       "onMarket            0.003216\n",
       "review             -0.009188\n",
       "IsRent             -0.075994\n",
       "age                -0.240437\n",
       "long               -0.268415\n",
       "Name: price, dtype: float64"
      ]
     },
     "execution_count": 25,
     "metadata": {},
     "output_type": "execute_result"
    }
   ],
   "source": [
    "price_corr = df.corr()['price'].sort_values(ascending = False)\n",
    "price_corr"
   ]
  },
  {
   "cell_type": "code",
   "execution_count": 43,
   "metadata": {},
   "outputs": [],
   "source": [
    "\n",
    "X_train_full, X_test, y_train_full, y_test = train_test_split(x, y, test_size=0.2,random_state=42)\n",
    "X_train, X_valid, y_train,  y_valid = train_test_split(X_train_full, y_train_full, test_size = 0.2,random_state=42)"
   ]
  },
  {
   "cell_type": "code",
   "execution_count": 44,
   "metadata": {
    "id": "c8E4OBIwAb7X"
   },
   "outputs": [
    {
     "name": "stdout",
     "output_type": "stream",
     "text": [
      "Numerical Columns : \n",
      " ['beds', 'livings', 'wc', 'area', 'street_width', 'age', 'ketchen', 'ac', 'furnished', 'width', 'length', 'review', 'onMarket', 'lat', 'long']\n",
      "************************************************************\n",
      "categorical Columns : \n",
      " ['advertiser_type', 'IsRent']\n",
      "************************************************************\n"
     ]
    }
   ],
   "source": [
    "## Separete the columns according to type (numerical or categorical)\n",
    "num_cols = [col for col in  X_train.columns \n",
    "             if X_train[col].dtype in ['float64', 'int64']]\n",
    "\n",
    "print('Numerical Columns : \\n', num_cols)\n",
    "print('**'*30)\n",
    "\n",
    "categ_cols = [col for col in  X_train.columns \n",
    "             if X_train[col].dtype not in ['float64', 'int64']]\n",
    "\n",
    "print('categorical Columns : \\n', categ_cols)\n",
    "print('**'*30)\n"
   ]
  },
  {
   "cell_type": "code",
   "execution_count": null,
   "metadata": {},
   "outputs": [],
   "source": []
  },
  {
   "cell_type": "code",
   "execution_count": null,
   "metadata": {},
   "outputs": [],
   "source": []
  },
  {
   "cell_type": "code",
   "execution_count": 45,
   "metadata": {},
   "outputs": [
    {
     "ename": "SyntaxError",
     "evalue": "EOF while scanning triple-quoted string literal (546190296.py, line 3)",
     "output_type": "error",
     "traceback": [
      "\u001b[1;36m  Input \u001b[1;32mIn [45]\u001b[1;36m\u001b[0m\n\u001b[1;33m    df_ohe = ohe.fit_transform(df[['advertiser_type']])\u001b[0m\n\u001b[1;37m                                                       \n^\u001b[0m\n\u001b[1;31mSyntaxError\u001b[0m\u001b[1;31m:\u001b[0m EOF while scanning triple-quoted string literal\n"
     ]
    }
   ],
   "source": [
    "'''pyt\n",
    "ohe = OneHotEncoder(sparse=False)\n",
    "df_ohe = ohe.fit_transform(df[['advertiser_type']])\n"
   ]
  },
  {
   "cell_type": "code",
   "execution_count": 46,
   "metadata": {},
   "outputs": [],
   "source": [
    "## We can get much much easier like the following\n",
    "## numerical pipeline\n",
    "num_pipeline = Pipeline([\n",
    "                    ('selector', DataFrameSelector(num_cols)),    ## select only these columns\n",
    "                    ('imputer', SimpleImputer(strategy='median')),\n",
    "                    ('scaler', StandardScaler())])\n",
    "\n",
    "## categorical pipeline\n",
    "categ_pipeline = Pipeline(steps=[\n",
    "            ('selector', DataFrameSelector(categ_cols)),    ## select only these columns\n",
    "            ('imputer', SimpleImputer(strategy='most_frequent')),\n",
    "            ('OHE', OneHotEncoder(sparse=False))])\n",
    "\n",
    "## concatenate both two pipelines\n",
    "total_pipeline = FeatureUnion(transformer_list=[\n",
    "                                ('num_pip', num_pipeline),\n",
    "                                ('categ_pipeline', categ_pipeline)])\n",
    "\n",
    "## deal with (total_pipeline) as an instance -- fit and transform to train dataset and transform only to other datasets\n",
    "X_train_final = total_pipeline.fit_transform(X_train_full)\n",
    "X_test_final = total_pipeline.transform(X_test)                 ### Every thing is processed :D"
   ]
  },
  {
   "cell_type": "code",
   "execution_count": null,
   "metadata": {},
   "outputs": [],
   "source": []
  },
  {
   "cell_type": "code",
   "execution_count": 47,
   "metadata": {
    "id": "dsacjSwM3uwJ"
   },
   "outputs": [
    {
     "data": {
      "text/plain": [
       "((5409, 21), (1082, 21), (1353, 21))"
      ]
     },
     "execution_count": 47,
     "metadata": {},
     "output_type": "execute_result"
    }
   ],
   "source": [
    "X_train_final.shape ,X_valid_final.shape, X_test_final.shape "
   ]
  },
  {
   "cell_type": "markdown",
   "metadata": {
    "id": "CXPuojzA3do5"
   },
   "source": [
    "###**Building ML Models**\n"
   ]
  },
  {
   "cell_type": "markdown",
   "metadata": {
    "id": "KcFMd4g34EL1"
   },
   "source": [
    "##**Linear Regression**\n",
    "\n",
    "\n"
   ]
  },
  {
   "cell_type": "code",
   "execution_count": 54,
   "metadata": {
    "id": "8pMa3BTeplQ3"
   },
   "outputs": [
    {
     "data": {
      "text/plain": [
       "LinearRegression()"
      ]
     },
     "execution_count": 54,
     "metadata": {},
     "output_type": "execute_result"
    }
   ],
   "source": [
    "lin_reg = LinearRegression()\n",
    "lin_reg.fit(X_train_final, y_train_full)"
   ]
  },
  {
   "cell_type": "code",
   "execution_count": 55,
   "metadata": {
    "id": "OKkzMLTZplT9"
   },
   "outputs": [],
   "source": [
    "y_predict_train = lin_reg.predict(X_train_final)\n",
    "y_predict_valid = lin_reg.predict(X_valid_final)"
   ]
  },
  {
   "cell_type": "code",
   "execution_count": 85,
   "metadata": {
    "id": "nlhmYREeplXA"
   },
   "outputs": [
    {
     "name": "stdout",
     "output_type": "stream",
     "text": [
      "r2_train_lin >....  0.45763084715285407\n",
      "r2_valid_lin >....  0.4775712974889611\n"
     ]
    }
   ],
   "source": [
    "r2_train_lin = r2_score(y_train_full, y_predict_train)\n",
    "r2_valid_lin = r2_score(y_valid, y_predict_valid)\n",
    "print(\"r2_train_lin >.... \", r2_train_lin)\n",
    "print(\"r2_valid_lin >.... \", r2_valid_lin)"
   ]
  },
  {
   "cell_type": "code",
   "execution_count": 87,
   "metadata": {
    "id": "PhwVgpyhplZ3"
   },
   "outputs": [
    {
     "name": "stdout",
     "output_type": "stream",
     "text": [
      "rmse_train_lin >..... 21513.800724645986\n",
      "rmse_valid_lin >..... 21262.95611967386\n"
     ]
    }
   ],
   "source": [
    "rmse_train_lin = (mean_squared_error(y_train_full, y_predict_train))**0.5\n",
    "rmse_valid_lin = (mean_squared_error(y_valid, y_predict_valid))**0.5\n",
    "print(\"rmse_train_lin >.....\", rmse_train_lin)\n",
    "print(\"rmse_valid_lin >.....\", rmse_valid_lin)"
   ]
  },
  {
   "cell_type": "markdown",
   "metadata": {
    "id": "vYkvZV9BD4cO"
   },
   "source": [
    "## ***SGD Regressor***\n"
   ]
  },
  {
   "cell_type": "code",
   "execution_count": 88,
   "metadata": {
    "id": "_OKAx_fBplch"
   },
   "outputs": [
    {
     "data": {
      "text/plain": [
       "SGDRegressor(eta0=0.001, penalty=None)"
      ]
     },
     "execution_count": 88,
     "metadata": {},
     "output_type": "execute_result"
    }
   ],
   "source": [
    "sgd_reg = SGDRegressor(penalty=None, eta0=0.001, shuffle=True, max_iter=1000)  \n",
    "sgd_reg.fit(X_train_final, y_train_full)\n"
   ]
  },
  {
   "cell_type": "code",
   "execution_count": 89,
   "metadata": {
    "id": "z-OiQaIEplf2"
   },
   "outputs": [],
   "source": [
    "y_pred_train_sgd = sgd_reg.predict(X_train_final) \n",
    "y_pred_valid_sgd = sgd_reg.predict(X_valid_final) "
   ]
  },
  {
   "cell_type": "code",
   "execution_count": 90,
   "metadata": {
    "id": "G9Cb0saapljb"
   },
   "outputs": [
    {
     "name": "stdout",
     "output_type": "stream",
     "text": [
      "r2_train_sgd >.... 0.4576171794596374\n",
      "r2_valid_sgd >.... 0.477496147167925\n"
     ]
    }
   ],
   "source": [
    "r2_train_sgd = r2_score(y_train_full, y_pred_train_sgd)\n",
    "r2_valid_sgd = r2_score(y_valid, y_pred_valid_sgd)\n",
    "print(\"r2_train_sgd >....\", r2_train_sgd)\n",
    "print(\"r2_valid_sgd >....\", r2_valid_sgd)"
   ]
  },
  {
   "cell_type": "markdown",
   "metadata": {
    "id": "CwQ6D2p4Ezwv"
   },
   "source": [
    "##**Random Forest Regressor**"
   ]
  },
  {
   "cell_type": "code",
   "execution_count": 91,
   "metadata": {
    "id": "TfkCP39FAWaH"
   },
   "outputs": [],
   "source": [
    "\n",
    "rf_reg = RandomForestRegressor( n_estimators=100, max_depth=20)\n",
    "rf_reg.fit(X_train_final, y_train_full)\n",
    "y_pred_train_rf = rf_reg.predict(X_train_final) \n",
    "y_pred_valid_rf = rf_reg.predict(X_valid_final) "
   ]
  },
  {
   "cell_type": "code",
   "execution_count": 92,
   "metadata": {
    "id": "FRS7kF1O_3Bx"
   },
   "outputs": [
    {
     "name": "stdout",
     "output_type": "stream",
     "text": [
      "r2_train_rf >.... 0.939488998483344\n",
      "r2_valid_rf >.... 0.7729534896999805\n"
     ]
    }
   ],
   "source": [
    "r2_score_train_rf = r2_score(y_train_full, y_pred_train_rf)\n",
    "\n",
    "r2_score_valid_rf = r2_score(y_valid, y_pred_valid_rf)\n",
    "\n",
    "print(\"r2_train_rf >....\", r2_score_train_rf)\n",
    "print(\"r2_valid_rf >....\", r2_score_valid_rf)"
   ]
  },
  {
   "cell_type": "code",
   "execution_count": 93,
   "metadata": {
    "id": "rOehIjEuMWms"
   },
   "outputs": [
    {
     "name": "stdout",
     "output_type": "stream",
     "text": [
      "rmse_train_rf= 7185.993524386583\n",
      "rmse_valid_rf= 14017.402496747764\n"
     ]
    }
   ],
   "source": [
    "rmse_train_rf = (mean_squared_error(y_train_full, y_pred_train_rf))**0.5\n",
    "rmse_train_rf\n",
    "rmse_valid_rf = (mean_squared_error(y_valid, y_pred_valid_rf))**0.5\n",
    "rmse_valid_rf\n",
    "\n",
    "print(\"rmse_train_rf=\",rmse_train_rf)\n",
    "print(\"rmse_valid_rf=\",rmse_valid_rf)"
   ]
  },
  {
   "cell_type": "code",
   "execution_count": 94,
   "metadata": {
    "id": "kNXJR67cT3kf"
   },
   "outputs": [],
   "source": [
    "# Define the parameter grid\n",
    "param_grid = {\n",
    "    'n_estimators': [50, 100, 200, 300, 400],\n",
    "    'max_depth': [5, 10, 15, 20, 25, 30],\n",
    "    'min_samples_split': [2, 4, 6, 8],\n",
    "    'min_samples_leaf': [1, 2, 4],\n",
    "    'max_features': ['auto', 'sqrt', 'log2'],\n",
    "    'bootstrap': [True, False]\n",
    "}"
   ]
  },
  {
   "cell_type": "code",
   "execution_count": 95,
   "metadata": {},
   "outputs": [
    {
     "data": {
      "text/plain": [
       "RandomizedSearchCV(cv=5, estimator=RandomForestRegressor(max_depth=20),\n",
       "                   n_jobs=-1,\n",
       "                   param_distributions={'bootstrap': [True, False],\n",
       "                                        'max_depth': [5, 10, 15, 20, 25, 30],\n",
       "                                        'max_features': ['auto', 'sqrt',\n",
       "                                                         'log2'],\n",
       "                                        'min_samples_leaf': [1, 2, 4],\n",
       "                                        'min_samples_split': [2, 4, 6, 8],\n",
       "                                        'n_estimators': [50, 100, 200, 300,\n",
       "                                                         400]})"
      ]
     },
     "execution_count": 95,
     "metadata": {},
     "output_type": "execute_result"
    }
   ],
   "source": [
    "# Create a RandomizedSearchCV object\n",
    "grid_search = RandomizedSearchCV(estimator=rf_reg, param_distributions=param_grid, cv=5, n_iter=10, n_jobs=-1)\n",
    "# Fit the object to the training data\n",
    "grid_search.fit(X_train_final, y_train_full)"
   ]
  },
  {
   "cell_type": "code",
   "execution_count": 96,
   "metadata": {
    "id": "ckC4aC6RWtOa"
   },
   "outputs": [
    {
     "name": "stdout",
     "output_type": "stream",
     "text": [
      "{'n_estimators': 400, 'min_samples_split': 2, 'min_samples_leaf': 1, 'max_features': 'log2', 'max_depth': 30, 'bootstrap': True}\n"
     ]
    }
   ],
   "source": [
    "# Get the best parameters\n",
    "best_params = grid_search.best_params_\n",
    "print(best_params)"
   ]
  },
  {
   "cell_type": "code",
   "execution_count": 97,
   "metadata": {
    "id": "_8MyLIdKUjB8"
   },
   "outputs": [],
   "source": [
    "# Create a new Random Forest regressor with the best parameters\n",
    "rf_reg = RandomForestRegressor(**best_params)"
   ]
  },
  {
   "cell_type": "code",
   "execution_count": 98,
   "metadata": {
    "id": "4NUz9bJeTWQV"
   },
   "outputs": [],
   "source": [
    "# Fit the model to the training data\n",
    "rf_reg.fit(X_train_final, y_train_full)\n",
    "# Make predictions on the training and validation sets\n",
    "y_pred_train_rf = rf_reg.predict(X_train_final)\n",
    "y_pred_valid_rf = rf_reg.predict(X_valid_final)"
   ]
  },
  {
   "cell_type": "code",
   "execution_count": 99,
   "metadata": {
    "id": "mFYQkO1bUoel"
   },
   "outputs": [
    {
     "name": "stdout",
     "output_type": "stream",
     "text": [
      "R2 score for training set:  0.9510696600836815\n",
      "R2 score for valid set:  0.8868852655412317\n",
      "RMSE for training set:  6461.878195046853\n",
      "RMSE for valid set:  9893.950163199343\n"
     ]
    }
   ],
   "source": [
    "# Calculate the R2 scores and RMSE for the training and validation sets\n",
    "r2_score_train_rf = r2_score(y_train_full, y_pred_train_rf)\n",
    "r2_score_valid_rf = r2_score(y_valid, y_pred_valid_rf)\n",
    "\n",
    "rmse_train_rf = (mean_squared_error(y_train_full, y_pred_train_rf))**0.5\n",
    "rmse_valid_rf = (mean_squared_error(y_valid, y_pred_valid_rf))**0.5\n",
    "\n",
    "print(\"R2 score for training set: \", r2_score_train_rf)\n",
    "print(\"R2 score for valid set: \", r2_score_valid_rf)\n",
    "print(\"RMSE for training set: \", rmse_train_rf)\n",
    "print(\"RMSE for valid set: \", rmse_valid_rf)"
   ]
  },
  {
   "cell_type": "markdown",
   "metadata": {},
   "source": []
  },
  {
   "cell_type": "code",
   "execution_count": 113,
   "metadata": {
    "scrolled": true
   },
   "outputs": [
    {
     "data": {
      "text/plain": [
       "XGBRegressor(base_score=None, booster=None, callbacks=None,\n",
       "             colsample_bylevel=None, colsample_bynode=None,\n",
       "             colsample_bytree=None, early_stopping_rounds=None,\n",
       "             enable_categorical=False, eval_metric=None, feature_types=None,\n",
       "             gamma=None, gpu_id=None, grow_policy=None, importance_type=None,\n",
       "             interaction_constraints=None, learning_rate=0.03, max_bin=None,\n",
       "             max_cat_threshold=None, max_cat_to_onehot=None,\n",
       "             max_delta_step=None, max_depth=None, max_leaves=None,\n",
       "             min_child_weight=None, missing=nan, monotone_constraints=None,\n",
       "             n_estimators=300, n_jobs=None, num_parallel_tree=None,\n",
       "             predictor=None, random_state=None, ...)"
      ]
     },
     "execution_count": 113,
     "metadata": {},
     "output_type": "execute_result"
    }
   ],
   "source": [
    "xgb_reg = xgb.XGBRegressor(objective='reg:squarederror', ## The most one according to your task (here, Multiclass class.)\n",
    "                            learning_rate=0.03,           ## eta or learning_rate \n",
    "                            n_estimators=300,             ## number of trees\n",
    "                            use_label_encoder=True)     ## only to remove the warning\n",
    "xgb_reg.fit(X_train_final, y_train_full)"
   ]
  },
  {
   "cell_type": "code",
   "execution_count": 117,
   "metadata": {},
   "outputs": [
    {
     "name": "stdout",
     "output_type": "stream",
     "text": [
      "Fitting 5 folds for each of 81 candidates, totalling 405 fits\n"
     ]
    },
    {
     "data": {
      "text/plain": [
       "GridSearchCV(cv=5,\n",
       "             estimator=XGBRegressor(base_score=None, booster=None,\n",
       "                                    callbacks=None, colsample_bylevel=None,\n",
       "                                    colsample_bynode=None,\n",
       "                                    colsample_bytree=None,\n",
       "                                    early_stopping_rounds=None,\n",
       "                                    enable_categorical=False, eval_metric=None,\n",
       "                                    feature_types=None, gamma=None, gpu_id=None,\n",
       "                                    grow_policy=None, importance_type=None,\n",
       "                                    interaction_constraints=None,\n",
       "                                    learning_rate=0.03, m...\n",
       "                                    max_depth=None, max_leaves=None,\n",
       "                                    min_child_weight=None, missing=nan,\n",
       "                                    monotone_constraints=None, n_estimators=300,\n",
       "                                    n_jobs=None, num_parallel_tree=None,\n",
       "                                    predictor=None, random_state=None, ...),\n",
       "             n_jobs=-1,\n",
       "             param_grid={'learning_rate': array([0.01, 0.02, 0.03, 0.04, 0.05, 0.06, 0.07, 0.08, 0.09]),\n",
       "                         'n_estimators': array([100, 200, 300, 400, 500, 600, 700, 800, 900])},\n",
       "             scoring='neg_mean_squared_error', verbose=6)"
      ]
     },
     "execution_count": 117,
     "metadata": {},
     "output_type": "execute_result"
    }
   ],
   "source": [
    "## Tuning using GridSearchCV\n",
    "params_xgb = {'n_estimators':np.arange(100, 1000, 100), 'learning_rate':np.arange(0.01, 0.1, 0.01)}\n",
    "grid_xgb = GridSearchCV(estimator=xgb_reg, \n",
    "                        param_grid=params_xgb, \n",
    "                        cv=5, \n",
    "                        n_jobs=-1, \n",
    "                        scoring='neg_mean_squared_error', \n",
    "                        verbose=6)\n",
    "\n",
    "grid_xgb.fit(X_train_final, y_train_full)   ## train"
   ]
  },
  {
   "cell_type": "code",
   "execution_count": 118,
   "metadata": {},
   "outputs": [
    {
     "name": "stdout",
     "output_type": "stream",
     "text": [
      "Best Parameter using XGB --  {'learning_rate': 0.02, 'n_estimators': 700}\n"
     ]
    }
   ],
   "source": [
    "best_parms_xgb = grid_xgb.best_params_\n",
    "print('Best Parameter using XGB -- ', best_parms_xgb)"
   ]
  },
  {
   "cell_type": "code",
   "execution_count": 119,
   "metadata": {},
   "outputs": [
    {
     "name": "stdout",
     "output_type": "stream",
     "text": [
      "Best Estimaror using XGB --  XGBRegressor(base_score=None, booster=None, callbacks=None,\n",
      "             colsample_bylevel=None, colsample_bynode=None,\n",
      "             colsample_bytree=None, early_stopping_rounds=None,\n",
      "             enable_categorical=False, eval_metric=None, feature_types=None,\n",
      "             gamma=None, gpu_id=None, grow_policy=None, importance_type=None,\n",
      "             interaction_constraints=None, learning_rate=0.02, max_bin=None,\n",
      "             max_cat_threshold=None, max_cat_to_onehot=None,\n",
      "             max_delta_step=None, max_depth=None, max_leaves=None,\n",
      "             min_child_weight=None, missing=nan, monotone_constraints=None,\n",
      "             n_estimators=700, n_jobs=None, num_parallel_tree=None,\n",
      "             predictor=None, random_state=None, ...)\n"
     ]
    }
   ],
   "source": [
    "xgb_best = grid_xgb.best_estimator_\n",
    "print('Best Estimaror using XGB -- ', xgb_best)"
   ]
  },
  {
   "cell_type": "code",
   "execution_count": 120,
   "metadata": {},
   "outputs": [],
   "source": [
    "# Make predictions on the training and validation sets\n",
    "y_pred_train_xgb = xgb_reg.predict(X_train_final)\n",
    "y_pred_valid_xgb = xgb_reg.predict(X_valid_final)"
   ]
  },
  {
   "cell_type": "code",
   "execution_count": 121,
   "metadata": {},
   "outputs": [
    {
     "name": "stdout",
     "output_type": "stream",
     "text": [
      "R2 score for training set:  0.8957017840413051\n",
      "R2 score for valid set:  0.7493700848096438\n",
      "RMSE for training set:  9434.265432032047\n",
      "RMSE for valid set:  14727.416932908565\n"
     ]
    }
   ],
   "source": [
    "# Calculate the R2 scores and RMSE for the training and validation sets\n",
    "r2_score_train_xgb = r2_score(y_train_full, y_pred_train_xgb)\n",
    "r2_score_valid_xgb = r2_score(y_valid, y_pred_valid_xgb)\n",
    "\n",
    "rmse_train_xgb= (mean_squared_error(y_train_full, y_pred_train_xgb))**0.5\n",
    "rmse_valid_xgb = (mean_squared_error(y_valid, y_pred_valid_xgb))**0.5\n",
    "\n",
    "print(\"R2 score for training set: \", r2_score_train_xgb)\n",
    "print(\"R2 score for valid set: \", r2_score_valid_xgb)\n",
    "print(\"RMSE for training set: \", rmse_train_xgb)\n",
    "print(\"RMSE for valid set: \", rmse_valid_xgb)"
   ]
  },
  {
   "cell_type": "code",
   "execution_count": null,
   "metadata": {},
   "outputs": [],
   "source": []
  },
  {
   "cell_type": "code",
   "execution_count": null,
   "metadata": {},
   "outputs": [],
   "source": []
  },
  {
   "cell_type": "code",
   "execution_count": null,
   "metadata": {},
   "outputs": [],
   "source": []
  },
  {
   "cell_type": "code",
   "execution_count": null,
   "metadata": {},
   "outputs": [],
   "source": []
  },
  {
   "cell_type": "code",
   "execution_count": null,
   "metadata": {},
   "outputs": [],
   "source": []
  },
  {
   "cell_type": "code",
   "execution_count": null,
   "metadata": {},
   "outputs": [],
   "source": []
  }
 ],
 "metadata": {
  "colab": {
   "provenance": []
  },
  "gpuClass": "standard",
  "kernelspec": {
   "display_name": "Python 3 (ipykernel)",
   "language": "python",
   "name": "python3"
  },
  "language_info": {
   "codemirror_mode": {
    "name": "ipython",
    "version": 3
   },
   "file_extension": ".py",
   "mimetype": "text/x-python",
   "name": "python",
   "nbconvert_exporter": "python",
   "pygments_lexer": "ipython3",
   "version": "3.9.12"
  }
 },
 "nbformat": 4,
 "nbformat_minor": 1
}
